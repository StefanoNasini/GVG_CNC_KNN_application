{
 "cells": [
  {
   "cell_type": "markdown",
   "id": "ab4fb57f",
   "metadata": {
    "id": "ab4fb57f"
   },
   "source": [
    "# Test equivalence between classic KNN and GVG_CNR model\n",
    "\n",
    "\n",
    "We will make a small 2D example out of iris dataset for verifying that the C++ implementation of GVG_CNR model work equivalently as a KNN under particular settings.\n",
    "\n"
   ]
  },
  {
   "cell_type": "code",
   "execution_count": 1,
   "id": "dIr5MnqqwqXY",
   "metadata": {
    "colab": {
     "base_uri": "https://localhost:8080/"
    },
    "id": "dIr5MnqqwqXY",
    "outputId": "a2411b46-0a2f-45e3-b3bd-a302288f7df1"
   },
   "outputs": [],
   "source": [
    "# import necessasary packages\n",
    "\n",
    "import os\n",
    "import numpy as np\n",
    "import pandas as pd\n",
    "\n",
    "from sklearn.datasets import load_iris\n",
    "\n",
    "root = os.getcwd() # define a root directory"
   ]
  },
  {
   "cell_type": "code",
   "execution_count": 2,
   "id": "41d14dfb",
   "metadata": {},
   "outputs": [
    {
     "name": "stdout",
     "output_type": "stream",
     "text": [
      "(150, 4)\n",
      "[0 0 0 0 0 0 0 0 0 0 0 0 0 0 0 0 0 0 0 0 0 0 0 0 0 0 0 0 0 0 0 0 0 0 0 0 0\n",
      " 0 0 0 0 0 0 0 0 0 0 0 0 0 1 1 1 1 1 1 1 1 1 1 1 1 1 1 1 1 1 1 1 1 1 1 1 1\n",
      " 1 1 1 1 1 1 1 1 1 1 1 1 1 1 1 1 1 1 1 1 1 1 1 1 1 1 2 2 2 2 2 2 2 2 2 2 2\n",
      " 2 2 2 2 2 2 2 2 2 2 2 2 2 2 2 2 2 2 2 2 2 2 2 2 2 2 2 2 2 2 2 2 2 2 2 2 2\n",
      " 2 2]\n"
     ]
    }
   ],
   "source": [
    "# loading data\n",
    "X_, y_ = load_iris()['data'],  load_iris()['target']\n",
    "print(X_.shape)\n",
    "print(y_)"
   ]
  },
  {
   "cell_type": "markdown",
   "id": "4e3a960c",
   "metadata": {},
   "source": [
    "There are (0, 1, 2) 3 different labels. To make it simple, we pick 20 pieces of 0 and 20 pieces of 1. \n",
    "\n",
    "Concerning the second dimension we will pick two of them for easier visualization. "
   ]
  },
  {
   "cell_type": "code",
   "execution_count": 3,
   "id": "deebf5d2",
   "metadata": {},
   "outputs": [
    {
     "name": "stdout",
     "output_type": "stream",
     "text": [
      "The first point is  [4.8 3.1]\n",
      "The labels are [0 0 0 0 0 0 0 0 0 0 0 0 0 0 0 0 0 0 0 0 1 1 1 1 1 1 1 1 1 1 1 1 1 1 1 1 1\n",
      " 1 1 1]\n"
     ]
    }
   ],
   "source": [
    "# We pick \n",
    "X = X_[30:70, :2]\n",
    "y = y_[30:70]\n",
    "print(\"The first point is \", X[0])\n",
    "print(\"The labels are\", y)"
   ]
  },
  {
   "cell_type": "code",
   "execution_count": 4,
   "id": "c55c781b",
   "metadata": {},
   "outputs": [],
   "source": [
    "# we split the data into training and testing. Since y is sorted, we can just pick consequtive numbers.\n",
    "training_zero = range(15)\n",
    "training_one = range(25, 40)\n",
    "testing_zero = range(15, 20)\n",
    "testing_one = range(20, 25)\n",
    "testing = range(15, 25)"
   ]
  },
  {
   "cell_type": "markdown",
   "id": "1bb51f8b",
   "metadata": {},
   "source": [
    "We visualize using a scatter plot. "
   ]
  },
  {
   "cell_type": "code",
   "execution_count": 5,
   "id": "d666a830",
   "metadata": {},
   "outputs": [
    {
     "data": {
      "image/png": "[encoded data removed]",
      "text/plain": [
       "<Figure size 640x480 with 1 Axes>"
      ]
     },
     "metadata": {},
     "output_type": "display_data"
    }
   ],
   "source": [
    "import matplotlib.pyplot as plt\n",
    "\n",
    "def show_scatter():\n",
    "    training_zero_color = 'r' # red\n",
    "    training_one_color = 'b' # blue\n",
    "    testing_color = 'orange'\n",
    "\n",
    "\n",
    "    # plt.scatter(X[:15, 0], X[:15, 1], color='r')\n",
    "    # plt.scatter(X[25:, 0], X[25:, 1], color='b')\n",
    "    # plt.scatter(X[15:25, 0], X[15:25, 1], color='orange')\n",
    "\n",
    "\n",
    "    plt.scatter(X[training_zero, 0], X[training_zero, 1]   , color=training_zero_color)\n",
    "    plt.scatter(X[training_one, 0] , X[training_one, 1]    , color=training_one_color)\n",
    "    plt.scatter(X[testing, 0]       , X[testing, 1]          , color=testing_color)\n",
    "\n",
    "\n",
    "    # annotate the points so that we see their index by their side\n",
    "    labels = range(40)\n",
    "\n",
    "    for i, label in enumerate(labels):\n",
    "        plt.annotate(label, (X[i, 0], X[i, 1]), textcoords=\"offset points\", xytext=(5,5), ha='center')\n",
    "\n",
    "    plt.show()\n",
    "    \n",
    "show_scatter()"
   ]
  },
  {
   "cell_type": "code",
   "execution_count": 6,
   "id": "d509f5c1",
   "metadata": {},
   "outputs": [],
   "source": [
    "# make sure the distance function is working correctly\n",
    "df = pd.DataFrame(np.concatenate([y.reshape((40, 1)), X], axis=1))\n",
    "\n",
    "distmatrix = np.zeros((40, 40), dtype=float)\n",
    "for i in range(40):\n",
    "    for j in range(40):\n",
    "        distmatrix[i, j] = (X[i, 0]-X[j, 0])**2 + (X[i, 1]-X[j, 1])**2"
   ]
  },
  {
   "cell_type": "markdown",
   "id": "5b41f063",
   "metadata": {},
   "source": [
    "# Generating data for C++ code\n",
    "Need phi_file, v_predefined_file and w_file\n",
    "<a id='Graphfile'></a>\n",
    "## Graph file, weight file and v predefined file\n",
    "<a href=#TableOfContent> Back to Table of Content </a>"
   ]
  },
  {
   "cell_type": "code",
   "execution_count": 7,
   "id": "be0d9c5d",
   "metadata": {},
   "outputs": [],
   "source": [
    "# calculate the distance between individuals\n",
    "\n",
    "distmatrix = np.zeros((40, 40), dtype=float)\n",
    "for i in range(40):\n",
    "    for j in range(40):\n",
    "        distmatrix[i, j] = (X[i, 0]-X[j, 0])**2 + (X[i, 1]-X[j, 1])**2\n",
    "        "
   ]
  },
  {
   "cell_type": "code",
   "execution_count": 8,
   "id": "59b75ab0",
   "metadata": {},
   "outputs": [
    {
     "name": "stdout",
     "output_type": "stream",
     "text": [
      "[15, 0, 4, 17, 5, 19, 8, 12, 9, 29, 10, 13, 7, 27, 1, 11, 36, 34, 14, 16, 6, 18, 25, 39, 23, 30, 37, 31, 2, 33, 3, 32, 26, 38, 21, 24, 28, 35, 22, 20]\n",
      "--------------------------------------------------------\n",
      "The first 0 elements, [] are ready. Inspecting the incoming element 15\n",
      "The inspected element is in testing data, so it is removed from the list.\n",
      "New asort is [0, 4, 17, 5, 19, 8, 12, 9, 29, 10, 13, 7, 27, 1, 11, 36, 34, 14, 16, 6, 18, 25, 39, 23, 30, 37, 31, 2, 33, 3, 32, 26, 38, 21, 24, 28, 35, 22, 20]\n",
      "--------------------------------------------------------\n",
      "The first 0 elements, [] are ready. Inspecting the incoming element 0\n",
      "The inspected element is in training data, so it is kept in the list.\n",
      "New asort is [0, 4, 17, 5, 19, 8, 12, 9, 29, 10, 13, 7, 27, 1, 11, 36, 34, 14, 16, 6, 18, 25, 39, 23, 30, 37, 31, 2, 33, 3, 32, 26, 38, 21, 24, 28, 35, 22, 20]\n",
      "--------------------------------------------------------\n",
      "The first 1 elements, [0] are ready. Inspecting the incoming element 4\n",
      "The inspected element is in training data, so it is kept in the list.\n",
      "New asort is [0, 4, 17, 5, 19, 8, 12, 9, 29, 10, 13, 7, 27, 1, 11, 36, 34, 14, 16, 6, 18, 25, 39, 23, 30, 37, 31, 2, 33, 3, 32, 26, 38, 21, 24, 28, 35, 22, 20]\n",
      "--------------------------------------------------------\n",
      "The first 2 elements, [0, 4] are ready. Inspecting the incoming element 17\n",
      "The inspected element is in testing data, so it is removed from the list.\n",
      "New asort is [0, 4, 5, 19, 8, 12, 9, 29, 10, 13, 7, 27, 1, 11, 36, 34, 14, 16, 6, 18, 25, 39, 23, 30, 37, 31, 2, 33, 3, 32, 26, 38, 21, 24, 28, 35, 22, 20]\n",
      "--------------------------------------------------------\n",
      "The first 2 elements, [0, 4] are ready. Inspecting the incoming element 5\n",
      "The inspected element is in training data, so it is kept in the list.\n",
      "New asort is [0, 4, 5, 19, 8, 12, 9, 29, 10, 13, 7, 27, 1, 11, 36, 34, 14, 16, 6, 18, 25, 39, 23, 30, 37, 31, 2, 33, 3, 32, 26, 38, 21, 24, 28, 35, 22, 20]\n",
      "--------------------------------------------------------\n",
      "The first 3 elements, [0, 4, 5] are ready. Inspecting the incoming element 19\n",
      "The inspected element is in testing data, so it is removed from the list.\n",
      "New asort is [0, 4, 5, 8, 12, 9, 29, 10, 13, 7, 27, 1, 11, 36, 34, 14, 16, 6, 18, 25, 39, 23, 30, 37, 31, 2, 33, 3, 32, 26, 38, 21, 24, 28, 35, 22, 20]\n",
      "--------------------------------------------------------\n",
      "The first 3 elements, [0, 4, 5] are ready. Inspecting the incoming element 8\n",
      "The inspected element is in training data, so it is kept in the list.\n",
      "New asort is [0, 4, 5, 8, 12, 9, 29, 10, 13, 7, 27, 1, 11, 36, 34, 14, 16, 6, 18, 25, 39, 23, 30, 37, 31, 2, 33, 3, 32, 26, 38, 21, 24, 28, 35, 22, 20]\n",
      "--------------------------------------------------------\n",
      "The first 4 elements, [0, 4, 5, 8] are ready. Inspecting the incoming element 12\n",
      "The inspected element is in training data, so it is kept in the list.\n",
      "New asort is [0, 4, 5, 8, 12, 9, 29, 10, 13, 7, 27, 1, 11, 36, 34, 14, 16, 6, 18, 25, 39, 23, 30, 37, 31, 2, 33, 3, 32, 26, 38, 21, 24, 28, 35, 22, 20]\n",
      "---------------------Finished------------------------------\n",
      "For 15, The first 5 closest elements are [0, 4, 5, 8, 12]\n"
     ]
    },
    {
     "data": {
      "image/png": "[encoded data removed]",
      "text/plain": [
       "<Figure size 640x480 with 1 Axes>"
      ]
     },
     "metadata": {},
     "output_type": "display_data"
    }
   ],
   "source": [
    "# verify that distance matrix is consistent with visual inspection, by checking the closest individuals.\n",
    "\n",
    "i = 15 # the test data. Change it to anything from 15 to 25 (excluded)\n",
    "\n",
    "asort = (np.argsort(distmatrix[i])) # this sort the individuals according to their distance-to-i\n",
    "\n",
    "# should consider the first 5 elements that are not testing\n",
    "\n",
    "asort = list(asort)\n",
    "print(asort)\n",
    "\n",
    "# we make sure that first j individuals (0, 1, ..., j-1) are in testing data.\n",
    "\n",
    "j = 0 # initialize\n",
    "while j < 5:\n",
    "    print(\"--------------------------------------------------------\")\n",
    "    print(f\"The first {j} elements, {asort[:j]} are ready.\", \"Inspecting the incoming element\", asort[j])\n",
    "    if asort[j] in range(15, 25): # if in testing, then we shouldn't include.\n",
    "        asort.pop(j)\n",
    "        print(\"The inspected element is in testing data, so it is removed from the list.\")\n",
    "        print(\"New asort is\", asort)\n",
    "    else:\n",
    "        print(\"The inspected element is in training data, so it is kept in the list.\")\n",
    "        print(\"New asort is\", asort)\n",
    "        j+=1\n",
    "    \n",
    "print(\"---------------------Finished------------------------------\")\n",
    "print(f\"For {i}, The first 5 closest elements are {asort[:5]}\")\n",
    "show_scatter()"
   ]
  },
  {
   "cell_type": "markdown",
   "id": "3ca26702",
   "metadata": {},
   "source": [
    "# Creating data file to be run on C++ code."
   ]
  },
  {
   "cell_type": "code",
   "execution_count": 9,
   "id": "6b4a6feb",
   "metadata": {},
   "outputs": [],
   "source": [
    "# create the weight file uniform, i.e. the weighted adjacency matrix of the (fully-connected) network, where each row is an instance.\n",
    "def create_weightfile_uniform(df, filename, overwrite=False):\n",
    "    weightfile = pd.DataFrame(index=range(df.shape[0]), columns=range(df.shape[0]), dtype=np.int8)\n",
    "    weightfile.iloc[:, :] = 1\n",
    "    np.fill_diagonal(weightfile.values, 0)\n",
    "    weightfile.to_csv(filename, header=False, index=False, sep= ' ', float_format='%.0f')\n",
    "\n",
    "    \n",
    "create_weightfile_uniform(df, os.path.join(root, \"data2run\", \"iris_weight.txt\"), overwrite=True)"
   ]
  },
  {
   "cell_type": "code",
   "execution_count": 10,
   "id": "24791095",
   "metadata": {},
   "outputs": [],
   "source": [
    "# create the graph file, i.e. the adjacency matrix of the (fully-connected) network, where each row is an instance.\n",
    "def create_graphfile(df, filename):\n",
    "    graphfile = pd.DataFrame(index=range(df.shape[0]), columns=range(df.shape[0]), dtype=np.int8)\n",
    "    graphfile.iloc[:, :] = 1\n",
    "    np.fill_diagonal(graphfile.values, 0)\n",
    "    graphfile.to_csv(filename, header=False, index=False, sep= ' ', float_format='%.0f')\n",
    "\n",
    "    \n",
    "create_graphfile(df, os.path.join(root, \"data2run\", \"iris_graph.txt\"))\n"
   ]
  },
  {
   "cell_type": "code",
   "execution_count": 11,
   "id": "a281546e",
   "metadata": {},
   "outputs": [
    {
     "ename": "SyntaxError",
     "evalue": "unexpected EOF while parsing (2469908112.py, line 10)",
     "output_type": "error",
     "traceback": [
      "\u001b[1;36m  Input \u001b[1;32mIn [11]\u001b[1;36m\u001b[0m\n\u001b[1;33m    list(range(15, 25))\u001b[0m\n\u001b[1;37m                       ^\u001b[0m\n\u001b[1;31mSyntaxError\u001b[0m\u001b[1;31m:\u001b[0m unexpected EOF while parsing\n"
     ]
    }
   ],
   "source": [
    "def create_v_predefined(df, filename, testing): # percentage of test data vs all data\n",
    "    # turn indices from testing into -1\n",
    "    v_predefined = (df.iloc[:, 0]).copy() # the labels\n",
    "    for i in testing:\n",
    "        v_predefined[i] = -1\n",
    "    v_predefined.to_csv(filename, header=False, index=False, sep=' ', float_format='%.0f')\n",
    "        \n",
    "        \n",
    "create_v_predefined(df, os.path.join(root, \"data2run\", \"iris_v_predefined.txt\"), \n",
    "                    list(range(15, 25))"
   ]
  },
  {
   "cell_type": "markdown",
   "id": "1b5d9821",
   "metadata": {},
   "source": [
    "# Generating phi file\n",
    "\n",
    "We replicate the same process before where we found the first K nearest neighbors, for each i in testing."
   ]
  },
  {
   "cell_type": "code",
   "execution_count": null,
   "id": "165e90da",
   "metadata": {},
   "outputs": [],
   "source": [
    "phi_matrix = np.zeros((40, 40))\n",
    "\n",
    "for i in range(15, 25):\n",
    "    print(\"testing dataset\")\n",
    "    asort = (np.argsort(distmatrix[i]))\n",
    "    # should consider the first 5 elements that are not testing\n",
    "    asort = list(asort)\n",
    "    j = 0\n",
    "    while j < 5:\n",
    "        if asort[j] in range(15, 25):\n",
    "            asort.pop(j)\n",
    "        else:\n",
    "            j+=1\n",
    "    print(f\"For {i}, The first 5 closest elements are {asort[:5]}\")\n",
    "    phi_matrix[i, asort[:3]] = 1\n",
    "pd.DataFrame(phi_matrix).to_csv(os.path.join(root, \"data2run\", \"iris_phi.txt\"), \n",
    "                                header=False, index=False, float_format='%.0f', sep=' ')"
   ]
  },
  {
   "cell_type": "code",
   "execution_count": 12,
   "id": "152816e8",
   "metadata": {
    "scrolled": true
   },
   "outputs": [
    {
     "name": "stdout",
     "output_type": "stream",
     "text": [
      "Project1.exe 40 1 4 1 0 0 0 1 \"iris_phi.txt\" \"iris_v_predefined.txt\" \"iris_weight.txt\"\n"
     ]
    }
   ],
   "source": [
    "##################################################################\n",
    "#\n",
    "# Prototype of code to rune the numerical tests using a C++\n",
    "# compiled code (Project1.exe) which contains the GVG-CNC model.\n",
    "#\n",
    "# Project1.exe requires the following input arguments:\n",
    "#\n",
    "# N: number of indivituals (N = 40);\n",
    "# F: number of items (F = 1);\n",
    "# Model Specification: For direct voting Model Specification = 4;\n",
    "# SW : Boolean (NE = 1 implies no Nash equilibrium constraints);\n",
    "# LI : Boolean (LI = 0 implies no LI constraints);\n",
    "# SC: Boolean (SC = 0 implies no symmetry constraints);\n",
    "# ThetaRange: a value between 0 and 1 to shrink the feasibility range for theta;\n",
    "# Filename for Phi;\n",
    "# Filename for v;\n",
    "# Filename for W;\n",
    "##################################################################\n",
    "\n",
    "command = 'Project1.exe 40 1 4 1 0 0 0 1 \"iris_phi.txt\" \"iris_v_predefined.txt\" \"iris_weight.txt\"'\n",
    "print(command)"
   ]
  },
  {
   "cell_type": "code",
   "execution_count": null,
   "id": "254ffc86",
   "metadata": {},
   "outputs": [],
   "source": [
    "##################################################################\n",
    "# The file \"output_solution.txt\" is generated when\n",
    "# running run(command, print_=True) from the previous cell.\n",
    "# This file will be renamed and moved to the 'results' folder.\n",
    "##################################################################"
   ]
  }
 ],
 "metadata": {
  "colab": {
   "provenance": []
  },
  "kernelspec": {
   "display_name": "Python 3 (ipykernel)",
   "language": "python",
   "name": "python3"
  },
  "language_info": {
   "codemirror_mode": {
    "name": "ipython",
    "version": 3
   },
   "file_extension": ".py",
   "mimetype": "text/x-python",
   "name": "python",
   "nbconvert_exporter": "python",
   "pygments_lexer": "ipython3",
   "version": "3.9.12"
  }
 },
 "nbformat": 4,
 "nbformat_minor": 5
}
