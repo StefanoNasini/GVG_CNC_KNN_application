{
 "cells": [
  {
   "cell_type": "code",
   "execution_count": 121,
   "id": "a77d4658",
   "metadata": {},
   "outputs": [],
   "source": [
    "import os\n",
    "import numpy as np\n",
    "import pandas as pd\n",
    "\n",
    "root = os.getcwd()"
   ]
  },
  {
   "cell_type": "code",
   "execution_count": 126,
   "id": "42a0737e",
   "metadata": {},
   "outputs": [],
   "source": [
    "# change this depending on the c++ file location \n",
    "\n",
    "cpp_file_location = r\"C:\\Users\\y.lin\\source\\repos\\Project1\\x64\\Debug\"\n",
    "dimensions = {'monk1': (554, 12),\n",
    " 'monk2': (599, 12),\n",
    " 'monk3': (552, 12),\n",
    " 'balance_scale_B': (624, 17),\n",
    " 'balance_scale_L': (624, 17),\n",
    " 'tic_bin': (957, 19),\n",
    " 'car_evaluation_vgood': (1727, 16),\n",
    " 'car_evaluation_good': (1727, 16),\n",
    " 'car_evaluation_acc': (1727, 16),\n",
    " 'kr-vs-kp': (3196, 38)}"
   ]
  },
  {
   "cell_type": "code",
   "execution_count": 127,
   "id": "6feb1808",
   "metadata": {},
   "outputs": [],
   "source": [
    "import subprocess\n",
    "\n",
    "# run cmd command by passing a string\n",
    "def run(command, print_=False):\n",
    "    # Run the command and capture its output\n",
    "    output = subprocess.check_output(command, shell=True)\n",
    "\n",
    "    # Decode the output if needed (Python 3.x)\n",
    "    output = output.decode('utf-8')\n",
    "\n",
    "    # Print the output\n",
    "    print(output) if print_ else None"
   ]
  },
  {
   "cell_type": "markdown",
   "id": "86ed16e9",
   "metadata": {},
   "source": [
    "## Running Monk1 dataset"
   ]
  },
  {
   "cell_type": "code",
   "execution_count": 155,
   "id": "efdfeeae",
   "metadata": {
    "scrolled": true
   },
   "outputs": [
    {
     "name": "stdout",
     "output_type": "stream",
     "text": [
      "CONSTRAINTS (force_zero_IVAN) INSERTED\r\n",
      "CONSTRAINTS (force_one_IVAN) INSERTED\r\n",
      "CONSTRAINTS (diff_1_IVAN) INSERTED\r\n",
      "CONSTRAINTS (diff_2_IVAN) INSERTED\r\n",
      "start solving vanilla IVAN\r\n",
      "option is 1\r\n",
      "Version identifier: 22.1.0.0 | 2022-03-09 | 1a383f8ce\r\n",
      "CPXPARAM_Threads                                 4\r\n",
      "CPXPARAM_Simplex_Tolerances_Feasibility          0.0001\r\n",
      "CPXPARAM_TimeLimit                               600\r\n",
      "CPXPARAM_MIP_Tolerances_MIPGap                   9.9999999999999995e-07\r\n",
      "CPXPARAM_MIP_Limits_TreeMemory                   10000\r\n",
      "Found incumbent of value 213.000000 after 0.00 sec. (0.31 ticks)\r\n",
      "Tried aggregator 2 times.\r\n",
      "MIP Presolve eliminated 500 rows and 500 columns.\r\n",
      "MIP Presolve modified 1718 coefficients.\r\n",
      "Aggregator did 500 substitutions.\r\n",
      "Reduced MIP has 1216 rows, 1216 columns, and 5224 nonzeros.\r\n",
      "Reduced MIP has 719 binaries, 497 generals, 0 SOSs, and 0 indicators.\r\n",
      "Presolve time = 0.02 sec. (6.32 ticks)\r\n",
      "Probing time = 0.00 sec. (0.36 ticks)\r\n",
      "Tried aggregator 1 time.\r\n",
      "Detecting symmetries...\r\n",
      "MIP Presolve modified 1464 coefficients.\r\n",
      "Reduced MIP has 1216 rows, 1216 columns, and 5224 nonzeros.\r\n",
      "Reduced MIP has 719 binaries, 497 generals, 0 SOSs, and 0 indicators.\r\n",
      "Presolve time = 0.00 sec. (4.06 ticks)\r\n",
      "Probing time = 0.00 sec. (0.35 ticks)\r\n",
      "\r\n",
      "CPXmipopt:\r\n",
      "\r\n",
      "\r\n",
      "STAT:\tobjval\t554\tbestobjval\t554\tlpstat\t101\ttime\t0.024\r\n",
      "\r\n",
      "\r\n",
      "numcols\t2216\r\n",
      "\r\n",
      "numrows\t2216\r\n",
      "variable count2216\r\n",
      "MIP emphasis: balance optimality and feasibility.\r\n",
      "MIP search method: dynamic search.\r\n",
      "Parallel mode: deterministic, using up to 4 threads.\r\n",
      "\r\n",
      "Root node processing (before b&c):\r\n",
      "  Real time             =    0.02 sec. (14.05 ticks)\r\n",
      "Parallel b&c, 4 threads:\r\n",
      "  Real time             =    0.00 sec. (0.00 ticks)\r\n",
      "  Sync time (average)   =    0.00 sec.\r\n",
      "  Wait time (average)   =    0.00 sec.\r\n",
      "                          ------------\r\n",
      "Total (root+branch&cut) =    0.02 sec. (14.05 ticks)\r\n",
      "DONE!\r\n",
      "\n"
     ]
    }
   ],
   "source": [
    "# run the cpp file via python notebook\n",
    "data2run = 'monk1'\n",
    "n_individuals = dimensions[data2run][0]\n",
    "n_items = 1\n",
    "\n",
    "command = (f'{os.path.join(cpp_file_location, \"Project1.exe\")} {dimensions[data2run][0]} 1 4 1 0 0 0 1 \"{data2run}_phifile.txt\" \"{data2run}_v_predefined.txt\" \"{data2run}_weight.csv\"')\n",
    "run(command, print_=True)"
   ]
  },
  {
   "cell_type": "code",
   "execution_count": 156,
   "id": "018f00a0",
   "metadata": {},
   "outputs": [
    {
     "name": "stdout",
     "output_type": "stream",
     "text": [
      "found\n",
      "moved\n"
     ]
    },
    {
     "ename": "FileExistsError",
     "evalue": "[WinError 183] Cannot create a file when that file already exists: 'C:\\\\Users\\\\y.lin\\\\OneDrive - IESEG\\\\Desktop\\\\Data\\\\KNN_Data\\\\results\\\\output_solution.txt' -> 'C:\\\\Users\\\\y.lin\\\\OneDrive - IESEG\\\\Desktop\\\\Data\\\\KNN_Data\\\\results\\\\monk1_solution.txt'",
     "output_type": "error",
     "traceback": [
      "\u001b[1;31m---------------------------------------------------------------------------\u001b[0m",
      "\u001b[1;31mFileExistsError\u001b[0m                           Traceback (most recent call last)",
      "Input \u001b[1;32mIn [156]\u001b[0m, in \u001b[0;36m<cell line: 8>\u001b[1;34m()\u001b[0m\n\u001b[0;32m      6\u001b[0m     os\u001b[38;5;241m.\u001b[39msystem(\u001b[38;5;124mf\u001b[39m\u001b[38;5;124m'\u001b[39m\u001b[38;5;124mmove output_solution.txt results\u001b[39m\u001b[38;5;124m'\u001b[39m)\n\u001b[0;32m      7\u001b[0m     \u001b[38;5;28mprint\u001b[39m(\u001b[38;5;124m\"\u001b[39m\u001b[38;5;124mmoved\u001b[39m\u001b[38;5;124m\"\u001b[39m)\n\u001b[1;32m----> 8\u001b[0m \u001b[43mos\u001b[49m\u001b[38;5;241;43m.\u001b[39;49m\u001b[43mrename\u001b[49m\u001b[43m(\u001b[49m\u001b[43mos\u001b[49m\u001b[38;5;241;43m.\u001b[39;49m\u001b[43mpath\u001b[49m\u001b[38;5;241;43m.\u001b[39;49m\u001b[43mjoin\u001b[49m\u001b[43m(\u001b[49m\u001b[43mroot\u001b[49m\u001b[43m,\u001b[49m\u001b[43m \u001b[49m\u001b[38;5;124;43m\"\u001b[39;49m\u001b[38;5;124;43mresults\u001b[39;49m\u001b[38;5;124;43m\"\u001b[39;49m\u001b[43m,\u001b[49m\u001b[43m \u001b[49m\u001b[38;5;124;43m\"\u001b[39;49m\u001b[38;5;124;43moutput_solution.txt\u001b[39;49m\u001b[38;5;124;43m\"\u001b[39;49m\u001b[43m)\u001b[49m\u001b[43m,\u001b[49m\u001b[43m \u001b[49m\u001b[43mos\u001b[49m\u001b[38;5;241;43m.\u001b[39;49m\u001b[43mpath\u001b[49m\u001b[38;5;241;43m.\u001b[39;49m\u001b[43mjoin\u001b[49m\u001b[43m(\u001b[49m\u001b[43mroot\u001b[49m\u001b[43m,\u001b[49m\u001b[43m \u001b[49m\u001b[38;5;124;43m'\u001b[39;49m\u001b[38;5;124;43mresults\u001b[39;49m\u001b[38;5;124;43m'\u001b[39;49m\u001b[43m,\u001b[49m\u001b[43m \u001b[49m\u001b[43mdata2run\u001b[49m\u001b[38;5;241;43m+\u001b[39;49m\u001b[38;5;124;43m'\u001b[39;49m\u001b[38;5;124;43m_solution.txt\u001b[39;49m\u001b[38;5;124;43m'\u001b[39;49m\u001b[43m)\u001b[49m\u001b[43m)\u001b[49m\n",
      "\u001b[1;31mFileExistsError\u001b[0m: [WinError 183] Cannot create a file when that file already exists: 'C:\\\\Users\\\\y.lin\\\\OneDrive - IESEG\\\\Desktop\\\\Data\\\\KNN_Data\\\\results\\\\output_solution.txt' -> 'C:\\\\Users\\\\y.lin\\\\OneDrive - IESEG\\\\Desktop\\\\Data\\\\KNN_Data\\\\results\\\\monk1_solution.txt'"
     ]
    }
   ],
   "source": [
    "import time\n",
    "time.sleep(1) # make sure the above command has been run\n",
    "\n",
    "if \"output_solution.txt\" in os.listdir():\n",
    "    print(\"found\")\n",
    "    os.system(f'move output_solution.txt results')\n",
    "    print(\"moved\")\n",
    "    os.rename(os.path.join(root, \"results\", \"output_solution.txt\"), os.path.join(root, 'results', data2run+'_solution.txt'))"
   ]
  },
  {
   "cell_type": "code",
   "execution_count": 158,
   "id": "a7ae2f27",
   "metadata": {},
   "outputs": [
    {
     "name": "stdout",
     "output_type": "stream",
     "text": [
      "2216\n"
     ]
    }
   ],
   "source": [
    "# from the model, omega are the label predicted by the voting process. \n",
    "# Here the individuals are i=0 til 554, the only feature is t=0\n",
    "def position_omega(i, t):\n",
    "    return n_individuals + 2*n_individuals*n_items + n_items*i + t\n",
    "\n",
    "\n",
    "\n",
    "# after running the executive cpp file, we obtain monk1_solution.txt containing the result variables. \n",
    "def get_prediction(filename=\"monk1_solution.txt\"):\n",
    "    with open(filename) as f:\n",
    "        x = f.read()\n",
    "    x = x.split('\t')\n",
    "    x.pop() # last one is slash-n\n",
    "    return np.array([float(x[position_omega(i, 0)]) for i in range(n_individuals)])\n",
    "    \n",
    "predicted = get_prediction(os.path.join(root, \"results\", \"monk1_solution.txt\"))"
   ]
  },
  {
   "cell_type": "code",
   "execution_count": 159,
   "id": "145c5b7b",
   "metadata": {},
   "outputs": [],
   "source": [
    "# compare with given dataframes\n",
    "df = pd.read_csv(os.path.join(root, \"df\", \"monk1.csv\"), index_col=0)\n",
    "truth = df['label']"
   ]
  },
  {
   "cell_type": "code",
   "execution_count": 160,
   "id": "0f80371d",
   "metadata": {},
   "outputs": [
    {
     "name": "stdout",
     "output_type": "stream",
     "text": [
      "554 554\n"
     ]
    }
   ],
   "source": [
    "# make sure the length are the same before comparison\n",
    "print(len(predicted), len(truth))"
   ]
  },
  {
   "cell_type": "code",
   "execution_count": 161,
   "id": "2cb19524",
   "metadata": {},
   "outputs": [
    {
     "name": "stdout",
     "output_type": "stream",
     "text": [
      "443\n",
      "450\n",
      "451\n",
      "458\n",
      "459\n",
      "466\n",
      "467\n",
      "474\n",
      "475\n",
      "482\n",
      "483\n",
      "490\n",
      "491\n",
      "498\n",
      "499\n",
      "506\n",
      "507\n",
      "508\n",
      "509\n",
      "510\n",
      "511\n",
      "512\n",
      "513\n",
      "514\n",
      "515\n",
      "516\n",
      "517\n",
      "518\n",
      "519\n",
      "520\n",
      "521\n",
      "522\n",
      "523\n",
      "524\n",
      "525\n",
      "526\n",
      "527\n",
      "528\n",
      "529\n",
      "530\n",
      "531\n",
      "532\n",
      "533\n",
      "534\n",
      "535\n",
      "536\n",
      "537\n",
      "538\n",
      "539\n",
      "540\n",
      "541\n",
      "542\n",
      "543\n",
      "544\n",
      "545\n",
      "546\n",
      "547\n",
      "548\n",
      "549\n",
      "550\n",
      "551\n",
      "552\n",
      "553\n"
     ]
    }
   ],
   "source": [
    "# print out the individuals such that the prediction is different than the truth\n",
    "count = 0\n",
    "for i in range(554):\n",
    "    if predicted[i] != truth[i]:\n",
    "        print(i)\n",
    "        count += 1"
   ]
  },
  {
   "cell_type": "code",
   "execution_count": 162,
   "id": "a8349bed",
   "metadata": {},
   "outputs": [
    {
     "name": "stdout",
     "output_type": "stream",
     "text": [
      "0.5685920577617329\n"
     ]
    }
   ],
   "source": [
    "# print out the percentage of correct classification\n",
    "print(count / len(predicted)*5)"
   ]
  },
  {
   "cell_type": "code",
   "execution_count": 163,
   "id": "d7907eba",
   "metadata": {},
   "outputs": [
    {
     "data": {
      "text/plain": [
       "array([1., 1., 1., 1., 1., 1., 1., 1., 1., 0., 0., 0., 1., 0., 0., 0., 0.,\n",
       "       0., 0., 0., 0., 0., 0., 0., 0., 0., 0., 0., 0., 1., 0., 0., 0., 0.,\n",
       "       0., 1., 0., 0., 0., 0., 1., 0., 0., 0., 0., 0., 1., 1., 0., 0., 0.,\n",
       "       0., 0., 0., 0., 0., 0., 0., 0., 0., 1., 1., 1., 1., 1., 1., 1., 1.,\n",
       "       1., 1., 1., 1., 1., 1., 1., 1., 1., 0., 1., 0., 0., 0., 1., 1., 0.,\n",
       "       0., 1., 1., 1., 0., 0., 1., 0., 0., 0., 0., 1., 0., 1., 0., 1., 1.,\n",
       "       0., 1., 0., 0., 1., 1., 1., 1., 1., 1., 1., 1., 1., 1., 1., 1., 1.,\n",
       "       1., 1., 1., 1., 1., 1., 1., 1., 1., 1., 1., 1., 1., 1., 1., 1., 1.,\n",
       "       1., 1., 1., 1., 1., 1., 1., 1., 1., 1., 1., 1., 1., 1., 1., 1., 1.,\n",
       "       1., 1., 1., 1., 1., 1., 1., 1., 1., 1., 1., 1., 1., 1., 1., 1., 1.,\n",
       "       1., 1., 0., 0., 0., 0., 0., 0., 1., 1., 0., 0., 0., 0., 0., 0., 1.,\n",
       "       1., 0., 0., 0., 0., 0., 0., 1., 1., 0., 0., 0., 0., 0., 0., 1., 1.,\n",
       "       0., 0., 0., 0., 0., 0., 1., 1., 0., 0., 0., 0., 0., 0., 1., 1., 0.,\n",
       "       0., 0., 0., 0., 0., 1., 1., 0., 0., 0., 0., 0., 0., 1., 1., 0., 0.,\n",
       "       0., 0., 0., 0., 1., 1., 0., 0., 0., 0., 0., 0., 1., 1., 0., 0., 0.,\n",
       "       0., 0., 0., 1., 1., 0., 0., 0., 0., 0., 0., 1., 1., 0., 0., 0., 0.,\n",
       "       0., 0., 1., 1., 0., 0., 0., 0., 0., 0., 1., 1., 0., 0., 0., 0., 0.,\n",
       "       0., 1., 1., 0., 0., 0., 0., 0., 0., 1., 1., 0., 0., 0., 0., 0., 0.,\n",
       "       1., 1., 0., 0., 0., 0., 0., 0., 1., 1., 1., 1., 1., 1., 1., 1., 1.,\n",
       "       1., 1., 1., 1., 1., 1., 1., 1., 1., 1., 1., 1., 1., 1., 1., 1., 1.,\n",
       "       1., 1., 1., 1., 1., 1., 1., 1., 1., 1., 1., 1., 1., 1., 1., 1., 1.,\n",
       "       1., 1., 1., 1., 1., 1., 1., 0., 0., 0., 0., 0., 0., 1., 1., 0., 0.,\n",
       "       0., 0., 0., 0., 1., 1., 0., 0., 0., 0., 0., 0., 1., 1., 0., 0., 0.,\n",
       "       0., 0., 0., 1., 1., 0., 0., 0., 0., 0., 0., 1., 1., 0., 0., 0., 0.,\n",
       "       0., 0., 1., 1., 0., 0., 0., 0., 0., 0., 1., 1., 0., 0., 0., 0., 0.,\n",
       "       0., 1., 1., 0., 0., 0., 0., 0., 0., 1., 1., 0., 0., 0., 0., 0., 0.,\n",
       "       1., 0., 0., 0., 0., 0., 0., 0., 0., 0., 0., 0., 0., 0., 0., 0., 0.,\n",
       "       0., 0., 0., 0., 0., 0., 0., 0., 0., 0., 0., 0., 0., 0., 0., 0., 0.,\n",
       "       0., 0., 0., 0., 0., 0., 0., 0., 0., 0., 0., 0., 0., 0., 0., 0., 0.,\n",
       "       0., 0., 0., 0., 0., 0., 0., 0., 0., 0., 0., 0., 0., 0., 0., 0., 0.,\n",
       "       0., 0., 0., 0., 0., 0., 0., 0., 0., 0., 0., 0., 0., 0., 0., 0., 0.,\n",
       "       0., 0., 0., 0., 0., 0., 0., 0., 0., 0., 0., 0., 0., 0., 0., 0., 0.,\n",
       "       0., 0., 0., 0., 0., 0., 0., 0., 0., 0.])"
      ]
     },
     "execution_count": 163,
     "metadata": {},
     "output_type": "execute_result"
    }
   ],
   "source": [
    "# inspect the vector of predicted result\n",
    "predicted"
   ]
  },
  {
   "cell_type": "code",
   "execution_count": null,
   "id": "0b3acaea",
   "metadata": {},
   "outputs": [],
   "source": []
  }
 ],
 "metadata": {
  "kernelspec": {
   "display_name": "Python 3 (ipykernel)",
   "language": "python",
   "name": "python3"
  },
  "language_info": {
   "codemirror_mode": {
    "name": "ipython",
    "version": 3
   },
   "file_extension": ".py",
   "mimetype": "text/x-python",
   "name": "python",
   "nbconvert_exporter": "python",
   "pygments_lexer": "ipython3",
   "version": "3.9.12"
  }
 },
 "nbformat": 4,
 "nbformat_minor": 5
}
